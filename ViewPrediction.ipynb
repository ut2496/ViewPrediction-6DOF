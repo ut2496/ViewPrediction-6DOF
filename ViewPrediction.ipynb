{
 "cells": [
  {
   "cell_type": "code",
   "execution_count": 83,
   "id": "185b562a",
   "metadata": {},
   "outputs": [],
   "source": [
    "import csv\n",
    "import pandas as pd\n",
    "import numpy as np\n",
    "import torch\n",
    "import torch.nn as nn\n",
    "import torch.nn.functional as F \n",
    "from torch import optim\n",
    "import matplotlib.pyplot as plt\n",
    "from sklearn.preprocessing import MinMaxScaler"
   ]
  },
  {
   "cell_type": "code",
   "execution_count": 39,
   "id": "db225393",
   "metadata": {},
   "outputs": [],
   "source": [
    "## Data Sanitization\n",
    "## Each Mobility Set contains 30000 entries which are divided in 250 samples/sec. \n",
    "## Thus each run duration is 120 seconds or 120000 ms\n",
    "\n",
    "df = pd.read_csv (r\"dataset/node1mobility.csv\")\n",
    "\n",
    "dataX = df['X'].to_numpy()\n",
    "dataY = df['Y'].to_numpy()\n",
    "dataZ = df['Z'].to_numpy()\n",
    "dataYaw = df['Yaw'].to_numpy()\n",
    "dataPitch = df['Pitch'].to_numpy()\n",
    "dataRoll = df['Roll'].to_numpy()\n",
    "dataIndex = np.asarray(list(range(30000)))\n"
   ]
  },
  {
   "cell_type": "code",
   "execution_count": 373,
   "id": "c4ee34df",
   "metadata": {},
   "outputs": [],
   "source": [
    "def timePointList(dataList, timePointBracket):\n",
    "    tpList = []\n",
    "    for i in range(0,int(np.ma.count(dataList)/timePointBracket)):\n",
    "        if(np.ma.count(dataList) < i*timePointBracket):\n",
    "            #This is the last iteration\n",
    "            delta = (dataList[-1] - dataList[(i*timePointBracket)])/(np.ma.count(dataList) - (i*timePointBracket))\n",
    "            tpList.append(delta)\n",
    "        else:\n",
    "            delta = (dataList[(i*timePointBracket) + timePointBracket - 1] - dataList[(i*timePointBracket)])/timePointBracket\n",
    "            tpList.append(delta)\n",
    "    return tpList\n",
    "\n",
    "def generateMotionGraphs(dataX, dataY, dataZ, dataYaw, dataPitch, dataRoll, timepoints):\n",
    "    deltaX = timePointList(dataX,timepoints)\n",
    "    deltaY = timePointList(dataY,timepoints)\n",
    "    deltaZ = timePointList(dataZ,timepoints)\n",
    "    deltaYaw = timePointList(dataYaw, timepoints)\n",
    "    deltaPitch = timePointList(dataPitch, timepoints)\n",
    "    deltaRoll = timePointList(dataRoll, timepoints)\n",
    "\n",
    "    plt.figure(1)\n",
    "    plt.plot(deltaX, label = '△X')\n",
    "    plt.plot(deltaY, label = '△Y')\n",
    "    plt.plot(deltaZ, label = '△Z')\n",
    "    plt.title(\"Body Motion Speed\")\n",
    "    plt.legend()\n",
    "    plt.show()\n",
    "\n",
    "    plt.figure(2)\n",
    "    plt.plot(deltaYaw, label = '△Yaw')\n",
    "    plt.plot(deltaPitch, label = '△Pitch')\n",
    "    plt.plot(deltaRoll, label = '△Roll')\n",
    "    plt.title(\"Head Motion Speed\")\n",
    "    plt.legend()\n",
    "    plt.show()\n"
   ]
  },
  {
   "cell_type": "code",
   "execution_count": 340,
   "id": "f8dd63bf",
   "metadata": {},
   "outputs": [
    {
     "name": "stdout",
     "output_type": "stream",
     "text": [
      "2874\n",
      "torch.Size([2874])\n"
     ]
    }
   ],
   "source": [
    "dataset=dataX.reshape(-1, 1)\n",
    "def create_dataset1(dataset, look_back=1):\n",
    "    dataX, dataY = [], []\n",
    "    for i in range(len(dataset)-look_back-1):\n",
    "        a = dataset[i:(i+look_back), 0]\n",
    "        dataX.append(a)\n",
    "        dataY.append(dataset[i + look_back, 0])\n",
    "    return np.array(dataX), np.array(dataY)\n",
    "\n",
    "train_size = int(len(dataset) * 0.9)\n",
    "test_size = len(dataset) - train_size\n",
    "train, test = dataset[0:train_size,:], dataset[train_size:len(dataset),:]\n",
    "\n",
    "# reshape into X=t and Y=t+1, timestep 125\n",
    "look_back = 125\n",
    "trainX, trainY = create_dataset1(train, look_back)\n",
    "testX, testY = create_dataset1(test, look_back)\n",
    "trainX = np.reshape(trainX, (trainX.shape[0], 1, trainX.shape[1]))\n",
    "testX = np.reshape(testX, (testX.shape[0], 1, testX.shape[1]))\n",
    "trainX = torch.from_numpy(trainX).float()\n",
    "trainY = torch.from_numpy(trainY).float()\n",
    "testX = torch.from_numpy(testX).float()\n",
    "testY = torch.from_numpy(testY).float()\n",
    "print(testX.size(0))\n",
    "print(testY.shape)"
   ]
  },
  {
   "cell_type": "code",
   "execution_count": 341,
   "id": "fa6aa0e1",
   "metadata": {},
   "outputs": [],
   "source": [
    "class LSTM2(nn.Module):\n",
    "    def __init__(self, hidden_layers=32, numLayers = 1):\n",
    "        super(LSTM2, self).__init__()\n",
    "        self.hidden_layers = hidden_layers\n",
    "        self.numLayers = numLayers\n",
    "        self.lstm1 = nn.LSTM(125, self.hidden_layers, batch_first=True, num_layers = numLayers)\n",
    "        self.linear = nn.Linear(self.hidden_layers, 1)\n",
    "        \n",
    "    def forward(self, inputVal):\n",
    "        hidden_state = torch.randn(self.numLayers, inputVal.size(0), 32).float()\n",
    "        cell_state = torch.randn(self.numLayers, inputVal.size(0), 32).float()\n",
    "        hidden = (hidden_state, cell_state)\n",
    "        h_t, c_t = self.lstm1(inputVal.float(), hidden)\n",
    "        outputs = self.linear(h_t) # output from the last FC layer\n",
    "        return outputs"
   ]
  },
  {
   "cell_type": "code",
   "execution_count": 342,
   "id": "425c4c69",
   "metadata": {},
   "outputs": [],
   "source": [
    "model = LSTM2(numLayers = 1)\n",
    "criterion = nn.MSELoss()\n",
    "optimiser = optim.Adam(model.parameters(), lr=0.01)"
   ]
  },
  {
   "cell_type": "code",
   "execution_count": 343,
   "id": "08527bf4",
   "metadata": {},
   "outputs": [],
   "source": [
    "def training_loop(n_epochs, model, optimiser, loss_fn, train_input, train_target):\n",
    "    model.train()\n",
    "    trainLoss = []\n",
    "    train_target = train_target.reshape(train_target.size(0), 1, 1)\n",
    "    for i in range(n_epochs):\n",
    "        optimiser.zero_grad()\n",
    "        out = model(train_input)\n",
    "        loss = loss_fn(out, train_target)\n",
    "        loss.backward()    \n",
    "        optimiser.step()\n",
    "        \n",
    "        trainLoss.append(loss)\n",
    "        print(\"Step: {}, Loss: {}\".format(i, loss))\n",
    "    return trainLoss\n",
    "\n",
    "def eval_model(model, loss_fn, test_input, test_target):\n",
    "        model.eval()\n",
    "        test_target = test_target.reshape(test_target.size(0), 1, 1)\n",
    "        with torch.no_grad():\n",
    "            pred = model(test_input)\n",
    "            loss = loss_fn(pred, test_target)\n",
    "            return loss, pred\n",
    "        "
   ]
  },
  {
   "cell_type": "code",
   "execution_count": 344,
   "id": "e8cf64a0",
   "metadata": {},
   "outputs": [
    {
     "name": "stdout",
     "output_type": "stream",
     "text": [
      "Step: 0, Loss: 5.692131996154785\n",
      "Step: 1, Loss: 3.092733860015869\n",
      "Step: 2, Loss: 2.4718127250671387\n",
      "Step: 3, Loss: 2.2739272117614746\n",
      "Step: 4, Loss: 2.1840322017669678\n",
      "Step: 5, Loss: 2.1013307571411133\n",
      "Step: 6, Loss: 2.012526750564575\n",
      "Step: 7, Loss: 1.9238581657409668\n",
      "Step: 8, Loss: 1.7300138473510742\n",
      "Step: 9, Loss: 1.700883388519287\n",
      "Step: 10, Loss: 1.5531595945358276\n",
      "Step: 11, Loss: 1.2683292627334595\n",
      "Step: 12, Loss: 1.3239020109176636\n",
      "Step: 13, Loss: 1.2676748037338257\n",
      "Step: 14, Loss: 1.3621292114257812\n",
      "Step: 15, Loss: 1.2126383781433105\n",
      "Step: 16, Loss: 1.2859983444213867\n",
      "Step: 17, Loss: 1.195948600769043\n",
      "Step: 18, Loss: 1.0623643398284912\n",
      "Step: 19, Loss: 1.044055461883545\n",
      "Step: 20, Loss: 0.8740505576133728\n",
      "Step: 21, Loss: 0.8910186886787415\n",
      "Step: 22, Loss: 0.7781999111175537\n",
      "Step: 23, Loss: 0.7630603909492493\n",
      "Step: 24, Loss: 0.6925376653671265\n",
      "Step: 25, Loss: 0.6306158304214478\n",
      "Step: 26, Loss: 0.61090087890625\n",
      "Step: 27, Loss: 0.5861388444900513\n",
      "Step: 28, Loss: 0.5616578459739685\n",
      "Step: 29, Loss: 0.5326563119888306\n",
      "Step: 30, Loss: 0.5064492225646973\n",
      "Step: 31, Loss: 0.46472203731536865\n",
      "Step: 32, Loss: 0.45537880063056946\n",
      "Step: 33, Loss: 0.43054625391960144\n",
      "Step: 34, Loss: 0.42060256004333496\n",
      "Step: 35, Loss: 0.40012484788894653\n",
      "Step: 36, Loss: 0.3859478533267975\n",
      "Step: 37, Loss: 0.3700333833694458\n",
      "Step: 38, Loss: 0.34430238604545593\n",
      "Step: 39, Loss: 0.32373544573783875\n",
      "Step: 40, Loss: 0.30698060989379883\n",
      "Step: 41, Loss: 0.30388692021369934\n",
      "Step: 42, Loss: 0.30358636379241943\n",
      "Step: 43, Loss: 0.33661168813705444\n",
      "Step: 44, Loss: 0.29714858531951904\n",
      "Step: 45, Loss: 0.3499571979045868\n",
      "Step: 46, Loss: 0.26350781321525574\n",
      "Step: 47, Loss: 0.28812384605407715\n",
      "Step: 48, Loss: 0.29595449566841125\n",
      "Step: 49, Loss: 0.26115116477012634\n",
      "Step: 50, Loss: 0.22376470267772675\n",
      "Step: 51, Loss: 0.20785808563232422\n",
      "Step: 52, Loss: 0.18710699677467346\n",
      "Step: 53, Loss: 0.15893201529979706\n",
      "Step: 54, Loss: 0.22824382781982422\n",
      "Step: 55, Loss: 0.3060483932495117\n",
      "Step: 56, Loss: 0.1449437439441681\n",
      "Step: 57, Loss: 0.3389783203601837\n",
      "Step: 58, Loss: 0.40299493074417114\n",
      "Step: 59, Loss: 0.3501899242401123\n",
      "Step: 60, Loss: 0.3998033106327057\n",
      "Step: 61, Loss: 0.22465424239635468\n",
      "Step: 62, Loss: 0.24232852458953857\n",
      "Step: 63, Loss: 0.18507979810237885\n",
      "Step: 64, Loss: 0.345684677362442\n",
      "Step: 65, Loss: 0.1841157227754593\n",
      "Step: 66, Loss: 0.22911956906318665\n",
      "Step: 67, Loss: 0.14667509496212006\n",
      "Step: 68, Loss: 0.2356138974428177\n",
      "Step: 69, Loss: 0.14238525927066803\n",
      "Step: 70, Loss: 0.17139284312725067\n",
      "Step: 71, Loss: 0.1470673680305481\n",
      "Step: 72, Loss: 0.14463375508785248\n",
      "Step: 73, Loss: 0.12622052431106567\n",
      "Step: 74, Loss: 0.12013597786426544\n",
      "Step: 75, Loss: 0.16125035285949707\n",
      "Step: 76, Loss: 0.11441414058208466\n",
      "Step: 77, Loss: 0.10972978174686432\n",
      "Step: 78, Loss: 0.11957099288702011\n",
      "Step: 79, Loss: 0.0936935693025589\n",
      "Step: 80, Loss: 0.1072072759270668\n",
      "Step: 81, Loss: 0.0951770693063736\n",
      "Step: 82, Loss: 0.09116265177726746\n",
      "Step: 83, Loss: 0.08352234214544296\n",
      "Step: 84, Loss: 0.07544171810150146\n",
      "Step: 85, Loss: 0.08404719829559326\n",
      "Step: 86, Loss: 0.07382477074861526\n",
      "Step: 87, Loss: 0.06709679961204529\n",
      "Step: 88, Loss: 0.07548654079437256\n",
      "Step: 89, Loss: 0.07004662603139877\n",
      "Step: 90, Loss: 0.05973370000720024\n",
      "Step: 91, Loss: 0.06821274012327194\n",
      "Step: 92, Loss: 0.0640263482928276\n",
      "Step: 93, Loss: 0.05471775308251381\n",
      "Step: 94, Loss: 0.06322178989648819\n",
      "Step: 95, Loss: 0.05951131135225296\n",
      "Step: 96, Loss: 0.04605606570839882\n",
      "Step: 97, Loss: 0.05478129908442497\n",
      "Step: 98, Loss: 0.05761466920375824\n",
      "Step: 99, Loss: 0.041806984692811966\n"
     ]
    }
   ],
   "source": [
    "#training_loop(5, model, optimiser, criterion, train_input, train_target, test_input, test_target)\n",
    "model = model.float()\n",
    "train_loss = training_loop(100, model, optimiser, criterion, trainX, trainY)"
   ]
  },
  {
   "cell_type": "code",
   "execution_count": 345,
   "id": "ee4ee0a1",
   "metadata": {},
   "outputs": [],
   "source": [
    "test_loss, prediction = eval_model(model, criterion, testX, testY)"
   ]
  },
  {
   "cell_type": "code",
   "execution_count": 377,
   "id": "d7883d74",
   "metadata": {},
   "outputs": [
    {
     "name": "stdout",
     "output_type": "stream",
     "text": [
      "tensor(0.1576)\n",
      "tensor([5.4940, 5.4939, 5.4938,  ..., 5.0241, 5.0223, 5.0204])\n",
      "tensor([5.2395, 5.4420, 5.1034,  ..., 4.7258, 4.8697, 4.8766])\n"
     ]
    }
   ],
   "source": [
    "print(test_loss)\n",
    "print(testY)\n",
    "print(prediction.reshape(prediction.size(0)))"
   ]
  },
  {
   "cell_type": "code",
   "execution_count": 374,
   "id": "0947c6f8",
   "metadata": {},
   "outputs": [
    {
     "data": {
      "text/plain": [
       "<matplotlib.collections.PathCollection at 0x2aa239400>"
      ]
     },
     "execution_count": 374,
     "metadata": {},
     "output_type": "execute_result"
    },
    {
     "data": {
      "image/png": "[encoded data removed]",
      "text/plain": [
       "<Figure size 800x600 with 1 Axes>"
      ]
     },
     "metadata": {
      "needs_background": "light"
     },
     "output_type": "display_data"
    }
   ],
   "source": [
    "plt.figure(figsize=(8, 6), dpi=100)\n",
    "plt.scatter(testY, prediction.reshape(prediction.size(0)))\n",
    "#plt.plot(prediction.reshape(prediction.size(0)))\n"
   ]
  },
  {
   "cell_type": "code",
   "execution_count": 372,
   "id": "7c99ca2d",
   "metadata": {},
   "outputs": [
    {
     "name": "stdout",
     "output_type": "stream",
     "text": [
      "dataset/node1mobility.csv\n",
      "dataset/node2mobility.csv\n",
      "dataset/node3mobility.csv\n",
      "dataset/node4mobility.csv\n",
      "dataset/node5mobility.csv\n",
      "dataset/node6mobility.csv\n",
      "dataset/node7mobility.csv\n",
      "dataset/node8mobility.csv\n",
      "dataset/node9mobility.csv\n",
      "dataset/node10mobility.csv\n",
      "dataset/node11mobility.csv\n",
      "dataset/node12mobility.csv\n",
      "dataset/node13mobility.csv\n",
      "dataset/node14mobility.csv\n",
      "dataset/node15mobility.csv\n",
      "dataset/node16mobility.csv\n",
      "dataset/node17mobility.csv\n",
      "dataset/node18mobility.csv\n"
     ]
    }
   ],
   "source": [
    "for i in range(1,19):\n",
    "    fileName = r\"dataset/node\" + str(i) +  \"mobility.csv\"\n",
    "    df = pd.read_csv (fileName)\n",
    "    dataX = df['X'].to_numpy()\n",
    "    dataY = df['Y'].to_numpy()\n",
    "    dataZ = df['Z'].to_numpy()\n",
    "    dataYaw = df['Yaw'].to_numpy()\n",
    "    dataPitch = df['Pitch'].to_numpy()\n",
    "    dataRoll = df['Roll'].to_numpy()\n",
    "    dataIndex = np.asarray(list(range(30000)))\n",
    "    \n",
    "    \n",
    "    \n",
    "    "
   ]
  },
  {
   "cell_type": "code",
   "execution_count": null,
   "id": "a2df8a8e",
   "metadata": {},
   "outputs": [],
   "source": []
  }
 ],
 "metadata": {
  "kernelspec": {
   "display_name": "Python 3",
   "language": "python",
   "name": "python3"
  },
  "language_info": {
   "codemirror_mode": {
    "name": "ipython",
    "version": 3
   },
   "file_extension": ".py",
   "mimetype": "text/x-python",
   "name": "python",
   "nbconvert_exporter": "python",
   "pygments_lexer": "ipython3",
   "version": "3.8.12"
  }
 },
 "nbformat": 4,
 "nbformat_minor": 5
}
